{
  "nbformat": 4,
  "nbformat_minor": 0,
  "metadata": {
    "colab": {
      "provenance": []
    },
    "kernelspec": {
      "name": "python3",
      "display_name": "Python 3"
    },
    "language_info": {
      "name": "python"
    }
  },
  "cells": [
    {
      "cell_type": "code",
      "execution_count": 1,
      "metadata": {
        "id": "c98-07iMOgQt"
      },
      "outputs": [],
      "source": [
        "import pandas as pd\n"
      ]
    },
    {
      "cell_type": "code",
      "source": [
        "df=pd.read_json('/content/DataEngineeringQ2.json')"
      ],
      "metadata": {
        "id": "lyRcmpHVPK2_"
      },
      "execution_count": 2,
      "outputs": []
    },
    {
      "cell_type": "code",
      "source": [
        "print(df.head())"
      ],
      "metadata": {
        "colab": {
          "base_uri": "https://localhost:8080/"
        },
        "id": "dizTeiInPi2d",
        "outputId": "9ea699ee-3557-4599-ab6e-ad3228f3d0d6"
      },
      "execution_count": 3,
      "outputs": [
        {
          "output_type": "stream",
          "name": "stdout",
          "text": [
            "        _id appointmentId                                     patientDetails  \\\n",
            "0  T6hf3rb5     40d2-9c9f  {'_id': 'T6hb630b3', 'firstName': 'Css', 'last...   \n",
            "1  T65g3rb5      40dbtc9f  {'_id': 'T6h33b300', 'firstName': 'Lokesh', 'l...   \n",
            "2  T7g6Srb5      g3Wt5c9f  {'_id': 'TjhB4373', 'phrId': '63b5hvy614d5', '...   \n",
            "3  94bg8W8d      fb6-a535  {'_id': '6df4R5b', 'phrId': '644nig7y', 'first...   \n",
            "4  T6h8H56c       67h7KL9  {'_id': 'lK9hy06a', 'firstName': 'Raghu Viju',...   \n",
            "\n",
            "   phoneNumber                                   consultationData  \n",
            "0  96686896670  {'adviceTemplates': [], 'advices': [], 'attach...  \n",
            "1   9496368916  {'adviceTemplates': [], 'advices': [], 'attach...  \n",
            "2   7787204833  {'adviceTemplates': [], 'advices': [], 'attach...  \n",
            "3   9376756879  {'adviceTemplates': [], 'advices': [], 'attach...  \n",
            "4   5267384241  {'adviceTemplates': [], 'advices': [], 'attach...  \n"
          ]
        }
      ]
    },
    {
      "cell_type": "code",
      "source": [
        "print(df.columns)"
      ],
      "metadata": {
        "colab": {
          "base_uri": "https://localhost:8080/"
        },
        "id": "dJZMfL_PPji-",
        "outputId": "9c9e0553-0822-4ad1-8e11-a5b2216a4681"
      },
      "execution_count": 5,
      "outputs": [
        {
          "output_type": "stream",
          "name": "stdout",
          "text": [
            "Index(['_id', 'appointmentId', 'patientDetails', 'phoneNumber',\n",
            "       'consultationData'],\n",
            "      dtype='object')\n"
          ]
        }
      ]
    },
    {
      "cell_type": "code",
      "source": [
        "df.info()"
      ],
      "metadata": {
        "colab": {
          "base_uri": "https://localhost:8080/"
        },
        "id": "-u3xExw4PxmG",
        "outputId": "b76d8b90-08d8-4d49-d7b0-5a063a95dd2d"
      },
      "execution_count": 6,
      "outputs": [
        {
          "output_type": "stream",
          "name": "stdout",
          "text": [
            "<class 'pandas.core.frame.DataFrame'>\n",
            "RangeIndex: 31 entries, 0 to 30\n",
            "Data columns (total 5 columns):\n",
            " #   Column            Non-Null Count  Dtype \n",
            "---  ------            --------------  ----- \n",
            " 0   _id               31 non-null     object\n",
            " 1   appointmentId     31 non-null     object\n",
            " 2   patientDetails    31 non-null     object\n",
            " 3   phoneNumber       31 non-null     object\n",
            " 4   consultationData  31 non-null     object\n",
            "dtypes: object(5)\n",
            "memory usage: 1.3+ KB\n"
          ]
        }
      ]
    },
    {
      "cell_type": "markdown",
      "source": [],
      "metadata": {
        "id": "sW-NMBh_Q_PK"
      }
    },
    {
      "cell_type": "code",
      "source": [
        "def categorize_age(age):\n",
        "  if age <= 12:\n",
        "    return 'Child'\n",
        "  elif age <=19:\n",
        "    return 'Teen'\n",
        "  elif age <=59:\n",
        "    return 'Adult'\n",
        "  else:\n",
        "    return 'Senior'\n",
        "\n",
        "df['ageGroup'] = df['patientDetails'].apply(categorize_age)\n",
        "print(df.head())"
      ],
      "metadata": {
        "colab": {
          "base_uri": "https://localhost:8080/",
          "height": 339
        },
        "id": "l4YaFhTbQiFK",
        "outputId": "e82ef915-e13d-4551-e2fc-076606b26b9d"
      },
      "execution_count": 15,
      "outputs": [
        {
          "output_type": "error",
          "ename": "TypeError",
          "evalue": "'<=' not supported between instances of 'dict' and 'int'",
          "traceback": [
            "\u001b[0;31m---------------------------------------------------------------------------\u001b[0m",
            "\u001b[0;31mTypeError\u001b[0m                                 Traceback (most recent call last)",
            "\u001b[0;32m<ipython-input-15-e74419307e57>\u001b[0m in \u001b[0;36m<cell line: 11>\u001b[0;34m()\u001b[0m\n\u001b[1;32m      9\u001b[0m     \u001b[0;32mreturn\u001b[0m \u001b[0;34m'Senior'\u001b[0m\u001b[0;34m\u001b[0m\u001b[0;34m\u001b[0m\u001b[0m\n\u001b[1;32m     10\u001b[0m \u001b[0;34m\u001b[0m\u001b[0m\n\u001b[0;32m---> 11\u001b[0;31m \u001b[0mdf\u001b[0m\u001b[0;34m[\u001b[0m\u001b[0;34m'ageGroup'\u001b[0m\u001b[0;34m]\u001b[0m \u001b[0;34m=\u001b[0m \u001b[0mdf\u001b[0m\u001b[0;34m[\u001b[0m\u001b[0;34m'patientDetails'\u001b[0m\u001b[0;34m]\u001b[0m\u001b[0;34m.\u001b[0m\u001b[0mapply\u001b[0m\u001b[0;34m(\u001b[0m\u001b[0mcategorize_age\u001b[0m\u001b[0;34m)\u001b[0m\u001b[0;34m\u001b[0m\u001b[0;34m\u001b[0m\u001b[0m\n\u001b[0m\u001b[1;32m     12\u001b[0m \u001b[0mprint\u001b[0m\u001b[0;34m(\u001b[0m\u001b[0mdf\u001b[0m\u001b[0;34m.\u001b[0m\u001b[0mhead\u001b[0m\u001b[0;34m(\u001b[0m\u001b[0;34m)\u001b[0m\u001b[0;34m)\u001b[0m\u001b[0;34m\u001b[0m\u001b[0;34m\u001b[0m\u001b[0m\n",
            "\u001b[0;32m/usr/local/lib/python3.10/dist-packages/pandas/core/series.py\u001b[0m in \u001b[0;36mapply\u001b[0;34m(self, func, convert_dtype, args, **kwargs)\u001b[0m\n\u001b[1;32m   4628\u001b[0m         \u001b[0mdtype\u001b[0m\u001b[0;34m:\u001b[0m \u001b[0mfloat64\u001b[0m\u001b[0;34m\u001b[0m\u001b[0;34m\u001b[0m\u001b[0m\n\u001b[1;32m   4629\u001b[0m         \"\"\"\n\u001b[0;32m-> 4630\u001b[0;31m         \u001b[0;32mreturn\u001b[0m \u001b[0mSeriesApply\u001b[0m\u001b[0;34m(\u001b[0m\u001b[0mself\u001b[0m\u001b[0;34m,\u001b[0m \u001b[0mfunc\u001b[0m\u001b[0;34m,\u001b[0m \u001b[0mconvert_dtype\u001b[0m\u001b[0;34m,\u001b[0m \u001b[0margs\u001b[0m\u001b[0;34m,\u001b[0m \u001b[0mkwargs\u001b[0m\u001b[0;34m)\u001b[0m\u001b[0;34m.\u001b[0m\u001b[0mapply\u001b[0m\u001b[0;34m(\u001b[0m\u001b[0;34m)\u001b[0m\u001b[0;34m\u001b[0m\u001b[0;34m\u001b[0m\u001b[0m\n\u001b[0m\u001b[1;32m   4631\u001b[0m \u001b[0;34m\u001b[0m\u001b[0m\n\u001b[1;32m   4632\u001b[0m     def _reduce(\n",
            "\u001b[0;32m/usr/local/lib/python3.10/dist-packages/pandas/core/apply.py\u001b[0m in \u001b[0;36mapply\u001b[0;34m(self)\u001b[0m\n\u001b[1;32m   1023\u001b[0m \u001b[0;34m\u001b[0m\u001b[0m\n\u001b[1;32m   1024\u001b[0m         \u001b[0;31m# self.f is Callable\u001b[0m\u001b[0;34m\u001b[0m\u001b[0;34m\u001b[0m\u001b[0m\n\u001b[0;32m-> 1025\u001b[0;31m         \u001b[0;32mreturn\u001b[0m \u001b[0mself\u001b[0m\u001b[0;34m.\u001b[0m\u001b[0mapply_standard\u001b[0m\u001b[0;34m(\u001b[0m\u001b[0;34m)\u001b[0m\u001b[0;34m\u001b[0m\u001b[0;34m\u001b[0m\u001b[0m\n\u001b[0m\u001b[1;32m   1026\u001b[0m \u001b[0;34m\u001b[0m\u001b[0m\n\u001b[1;32m   1027\u001b[0m     \u001b[0;32mdef\u001b[0m \u001b[0magg\u001b[0m\u001b[0;34m(\u001b[0m\u001b[0mself\u001b[0m\u001b[0;34m)\u001b[0m\u001b[0;34m:\u001b[0m\u001b[0;34m\u001b[0m\u001b[0;34m\u001b[0m\u001b[0m\n",
            "\u001b[0;32m/usr/local/lib/python3.10/dist-packages/pandas/core/apply.py\u001b[0m in \u001b[0;36mapply_standard\u001b[0;34m(self)\u001b[0m\n\u001b[1;32m   1074\u001b[0m             \u001b[0;32melse\u001b[0m\u001b[0;34m:\u001b[0m\u001b[0;34m\u001b[0m\u001b[0;34m\u001b[0m\u001b[0m\n\u001b[1;32m   1075\u001b[0m                 \u001b[0mvalues\u001b[0m \u001b[0;34m=\u001b[0m \u001b[0mobj\u001b[0m\u001b[0;34m.\u001b[0m\u001b[0mastype\u001b[0m\u001b[0;34m(\u001b[0m\u001b[0mobject\u001b[0m\u001b[0;34m)\u001b[0m\u001b[0;34m.\u001b[0m\u001b[0m_values\u001b[0m\u001b[0;34m\u001b[0m\u001b[0;34m\u001b[0m\u001b[0m\n\u001b[0;32m-> 1076\u001b[0;31m                 mapped = lib.map_infer(\n\u001b[0m\u001b[1;32m   1077\u001b[0m                     \u001b[0mvalues\u001b[0m\u001b[0;34m,\u001b[0m\u001b[0;34m\u001b[0m\u001b[0;34m\u001b[0m\u001b[0m\n\u001b[1;32m   1078\u001b[0m                     \u001b[0mf\u001b[0m\u001b[0;34m,\u001b[0m\u001b[0;34m\u001b[0m\u001b[0;34m\u001b[0m\u001b[0m\n",
            "\u001b[0;32m/usr/local/lib/python3.10/dist-packages/pandas/_libs/lib.pyx\u001b[0m in \u001b[0;36mpandas._libs.lib.map_infer\u001b[0;34m()\u001b[0m\n",
            "\u001b[0;32m<ipython-input-15-e74419307e57>\u001b[0m in \u001b[0;36mcategorize_age\u001b[0;34m(age)\u001b[0m\n\u001b[1;32m      1\u001b[0m \u001b[0;32mdef\u001b[0m \u001b[0mcategorize_age\u001b[0m\u001b[0;34m(\u001b[0m\u001b[0mage\u001b[0m\u001b[0;34m)\u001b[0m\u001b[0;34m:\u001b[0m\u001b[0;34m\u001b[0m\u001b[0;34m\u001b[0m\u001b[0m\n\u001b[0;32m----> 2\u001b[0;31m   \u001b[0;32mif\u001b[0m \u001b[0mage\u001b[0m \u001b[0;34m<=\u001b[0m \u001b[0;36m12\u001b[0m\u001b[0;34m:\u001b[0m\u001b[0;34m\u001b[0m\u001b[0;34m\u001b[0m\u001b[0m\n\u001b[0m\u001b[1;32m      3\u001b[0m     \u001b[0;32mreturn\u001b[0m \u001b[0;34m'Child'\u001b[0m\u001b[0;34m\u001b[0m\u001b[0;34m\u001b[0m\u001b[0m\n\u001b[1;32m      4\u001b[0m   \u001b[0;32melif\u001b[0m \u001b[0mage\u001b[0m \u001b[0;34m<=\u001b[0m\u001b[0;36m19\u001b[0m\u001b[0;34m:\u001b[0m\u001b[0;34m\u001b[0m\u001b[0;34m\u001b[0m\u001b[0m\n\u001b[1;32m      5\u001b[0m     \u001b[0;32mreturn\u001b[0m \u001b[0;34m'Teen'\u001b[0m\u001b[0;34m\u001b[0m\u001b[0;34m\u001b[0m\u001b[0m\n",
            "\u001b[0;31mTypeError\u001b[0m: '<=' not supported between instances of 'dict' and 'int'"
          ]
        }
      ]
    },
    {
      "cell_type": "code",
      "source": [
        "\n",
        "average_medicines = df['consultationData'].apply(len).mean()\n",
        "print(average_medicines)"
      ],
      "metadata": {
        "colab": {
          "base_uri": "https://localhost:8080/"
        },
        "id": "G6hmitMaRAJD",
        "outputId": "4d046679-2eb2-4efa-e71d-61b74b11258c"
      },
      "execution_count": 14,
      "outputs": [
        {
          "output_type": "stream",
          "name": "stdout",
          "text": [
            "26.096774193548388\n"
          ]
        }
      ]
    },
    {
      "cell_type": "code",
      "source": [
        "df.head(56)"
      ],
      "metadata": {
        "colab": {
          "base_uri": "https://localhost:8080/",
          "height": 1481
        },
        "id": "-wf5m_brRcmR",
        "outputId": "35aa9b6f-8295-4225-eecc-252efe317e04"
      },
      "execution_count": 17,
      "outputs": [
        {
          "output_type": "execute_result",
          "data": {
            "text/plain": [
              "         _id appointmentId                                     patientDetails  \\\n",
              "0   T6hf3rb5     40d2-9c9f  {'_id': 'T6hb630b3', 'firstName': 'Css', 'last...   \n",
              "1   T65g3rb5      40dbtc9f  {'_id': 'T6h33b300', 'firstName': 'Lokesh', 'l...   \n",
              "2   T7g6Srb5      g3Wt5c9f  {'_id': 'TjhB4373', 'phrId': '63b5hvy614d5', '...   \n",
              "3   94bg8W8d      fb6-a535  {'_id': '6df4R5b', 'phrId': '644nig7y', 'first...   \n",
              "4   T6h8H56c       67h7KL9  {'_id': 'lK9hy06a', 'firstName': 'Raghu Viju',...   \n",
              "5    T9Jh8c8        Hy7Y91  {'_id': 'kI9d5c6', 'firstName': 'Dinesh Kumar'...   \n",
              "6   9Is624b9     10dY8a-4a  {'_id': 'i9R324b7', 'phrId': '67Yt2b97', 'firs...   \n",
              "7   T8H9c3c6      e8056Ye8  {'_id': 'T6h41b5ad3d8002ad9c3c4', 'firstName':...   \n",
              "8    T8Ud380     dbc0-c66b  {'_id': 'T9Iy347e', 'firstName': 'Dinesh', 'la...   \n",
              "9    T345fG4        1576a7  {'_id': 'T4Rb1a2', 'firstName': 'Sanjay', 'las...   \n",
              "10  T4F6a175       b6Te4ac  {'_id': 'Tr4T2173', 'phrId': '6E48U79', 'first...   \n",
              "11   TW3r002        bu5Qfb  {'_id': 'T6Wa50', 'firstName': 'Nirmala', 'las...   \n",
              "12   6U6Ra36       86U8Y45  {'_id': '65sRa36', 'firstName': 'Satish', 'las...   \n",
              "13   u7Y7Aa5       Ufd7231  {'_id': 'UG67231', 'phrId': 'T6a7231', 'firstN...   \n",
              "14   T3R5dec       E4u5Ea2  {'_id': 'E4u5Ea2', 'firstName': 'Satyanaaryan'...   \n",
              "15   T4E7Ge6      T4E3e410  {'_id': 'T4E7Ge6', 'firstName': 'Nivitha', 'la...   \n",
              "16  E5336545       04Re22d  {'_id': '04Re22d', 'firstName': 'Tejpal', 'las...   \n",
              "17   T7Ys58b      af9784hf  {'_id': 'u7dWa589', 'firstName': 'Nandhini', '...   \n",
              "18  Y874Us5w       I8eW201  {'_id': 'TU7e913', 'firstName': 'Dhanamma', 'l...   \n",
              "19   Y7s5G42     f7r501cb1  {'_id': 'H8s2d40', 'firstName': 'Kushal', 'las...   \n",
              "20  Y7eE5cd8    cf092c8t6c  {'_id': 'u9cd6', 'phrId': '6463U8s231', 'first...   \n",
              "21   I9984e8      O02n262e  {'_id': 'Pdh97S6', 'phrId': 'Jus0480', 'firstN...   \n",
              "22  Tu78a783      5dfN9s41  {'_id': 'h02U8a781', 'firstName': 'Preethi', '...   \n",
              "23   U9D2w6c      cc86re0f  {'_id': 'T6h40a5ad3d8002ad9c06a', 'firstName':...   \n",
              "24  T6hY6sEe       bd99dU7  {'_id': 'Y7sHec', 'firstName': 'Naresh', 'last...   \n",
              "25    H7sT6c        bcWe50  {'_id': 'T6h408981ayf32b63bcfa', 'firstName': ...   \n",
              "26   8Utyd5b       7au8se3  {'_id': 'T6U67af9', 'firstName': 'Govardhan', ...   \n",
              "27  y87Ta5c7      432cT213  {'_id': 'R53Et5W', 'firstName': 'Rajeshwari', ...   \n",
              "28  Ub7S65b7      D3fFr42c  {'_id': 'dE3r$2b5', 'firstName': 'Santosh', 'l...   \n",
              "29   yD7s2d7       7uyT6Rs  {'_id': 'TI93Hd5', 'firstName': 'Tarachand', '...   \n",
              "30   I9Sb4e8        O02n2e  {'_id': 'Pdh97S6', 'phrId': 'Jus0480', 'firstN...   \n",
              "\n",
              "       phoneNumber                                   consultationData  \n",
              "0      96686896670  {'adviceTemplates': [], 'advices': [], 'attach...  \n",
              "1       9496368916  {'adviceTemplates': [], 'advices': [], 'attach...  \n",
              "2       7787204833  {'adviceTemplates': [], 'advices': [], 'attach...  \n",
              "3       9376756879  {'adviceTemplates': [], 'advices': [], 'attach...  \n",
              "4       5267384241  {'adviceTemplates': [], 'advices': [], 'attach...  \n",
              "5    +919826374025  {'adviceTemplates': [], 'advices': [], 'attach...  \n",
              "6       7587265252  {'adviceTemplates': [], 'advices': [], 'attach...  \n",
              "7       5586958767  {'adviceTemplates': [], 'advices': [], 'attach...  \n",
              "8       9987602525  {'adviceTemplates': [], 'advices': [], 'attach...  \n",
              "9       9234354366  {'adviceTemplates': [], 'advices': [], 'attach...  \n",
              "10      4863281056  {'adviceTemplates': [], 'advices': [], 'attach...  \n",
              "11      8687986800  {'adviceTemplates': [], 'advices': [], 'attach...  \n",
              "12                  {'adviceTemplates': [], 'advices': [], 'attach...  \n",
              "13      7152684236  {'labTest': [], 'emrTemplates': [], 'doctorNot...  \n",
              "14                  {'adviceTemplates': [], 'advices': [], 'attach...  \n",
              "15      9184723620  {'adviceTemplates': [], 'advices': [], 'attach...  \n",
              "16                  {'adviceTemplates': [], 'advices': [], 'attach...  \n",
              "17      5847346075  {'adviceTemplates': [], 'advices': [], 'attach...  \n",
              "18      9064537237  {'adviceTemplates': [], 'advices': [], 'attach...  \n",
              "19                  {'adviceTemplates': [], 'advices': [], 'attach...  \n",
              "20       992727892  {'adviceTemplates': [], 'advices': [], 'attach...  \n",
              "21      6888324121  {'adviceTemplates': [], 'advices': [], 'attach...  \n",
              "22      8248594521  {'adviceTemplates': [], 'advices': [], 'attach...  \n",
              "23   +917938475936  {'adviceTemplates': [], 'advices': [], 'attach...  \n",
              "24  +9124648979746  {'adviceTemplates': [], 'advices': [], 'attach...  \n",
              "25   +916883788633  {'adviceTemplates': [], 'advices': [], 'attach...  \n",
              "26   +916636278363  {'adviceTemplates': [], 'advices': [], 'attach...  \n",
              "27      6525356535  {'adviceTemplates': [], 'advices': [], 'attach...  \n",
              "28                  {'adviceTemplates': [], 'advices': [], 'attach...  \n",
              "29   +919093872282  {'adviceTemplates': [], 'advices': [], 'attach...  \n",
              "30   +916888324121  {'adviceTemplates': [], 'advices': [], 'attach...  "
            ],
            "text/html": [
              "\n",
              "  <div id=\"df-c151552d-dbe1-40e6-8802-8dd5e37d6246\" class=\"colab-df-container\">\n",
              "    <div>\n",
              "<style scoped>\n",
              "    .dataframe tbody tr th:only-of-type {\n",
              "        vertical-align: middle;\n",
              "    }\n",
              "\n",
              "    .dataframe tbody tr th {\n",
              "        vertical-align: top;\n",
              "    }\n",
              "\n",
              "    .dataframe thead th {\n",
              "        text-align: right;\n",
              "    }\n",
              "</style>\n",
              "<table border=\"1\" class=\"dataframe\">\n",
              "  <thead>\n",
              "    <tr style=\"text-align: right;\">\n",
              "      <th></th>\n",
              "      <th>_id</th>\n",
              "      <th>appointmentId</th>\n",
              "      <th>patientDetails</th>\n",
              "      <th>phoneNumber</th>\n",
              "      <th>consultationData</th>\n",
              "    </tr>\n",
              "  </thead>\n",
              "  <tbody>\n",
              "    <tr>\n",
              "      <th>0</th>\n",
              "      <td>T6hf3rb5</td>\n",
              "      <td>40d2-9c9f</td>\n",
              "      <td>{'_id': 'T6hb630b3', 'firstName': 'Css', 'last...</td>\n",
              "      <td>96686896670</td>\n",
              "      <td>{'adviceTemplates': [], 'advices': [], 'attach...</td>\n",
              "    </tr>\n",
              "    <tr>\n",
              "      <th>1</th>\n",
              "      <td>T65g3rb5</td>\n",
              "      <td>40dbtc9f</td>\n",
              "      <td>{'_id': 'T6h33b300', 'firstName': 'Lokesh', 'l...</td>\n",
              "      <td>9496368916</td>\n",
              "      <td>{'adviceTemplates': [], 'advices': [], 'attach...</td>\n",
              "    </tr>\n",
              "    <tr>\n",
              "      <th>2</th>\n",
              "      <td>T7g6Srb5</td>\n",
              "      <td>g3Wt5c9f</td>\n",
              "      <td>{'_id': 'TjhB4373', 'phrId': '63b5hvy614d5', '...</td>\n",
              "      <td>7787204833</td>\n",
              "      <td>{'adviceTemplates': [], 'advices': [], 'attach...</td>\n",
              "    </tr>\n",
              "    <tr>\n",
              "      <th>3</th>\n",
              "      <td>94bg8W8d</td>\n",
              "      <td>fb6-a535</td>\n",
              "      <td>{'_id': '6df4R5b', 'phrId': '644nig7y', 'first...</td>\n",
              "      <td>9376756879</td>\n",
              "      <td>{'adviceTemplates': [], 'advices': [], 'attach...</td>\n",
              "    </tr>\n",
              "    <tr>\n",
              "      <th>4</th>\n",
              "      <td>T6h8H56c</td>\n",
              "      <td>67h7KL9</td>\n",
              "      <td>{'_id': 'lK9hy06a', 'firstName': 'Raghu Viju',...</td>\n",
              "      <td>5267384241</td>\n",
              "      <td>{'adviceTemplates': [], 'advices': [], 'attach...</td>\n",
              "    </tr>\n",
              "    <tr>\n",
              "      <th>5</th>\n",
              "      <td>T9Jh8c8</td>\n",
              "      <td>Hy7Y91</td>\n",
              "      <td>{'_id': 'kI9d5c6', 'firstName': 'Dinesh Kumar'...</td>\n",
              "      <td>+919826374025</td>\n",
              "      <td>{'adviceTemplates': [], 'advices': [], 'attach...</td>\n",
              "    </tr>\n",
              "    <tr>\n",
              "      <th>6</th>\n",
              "      <td>9Is624b9</td>\n",
              "      <td>10dY8a-4a</td>\n",
              "      <td>{'_id': 'i9R324b7', 'phrId': '67Yt2b97', 'firs...</td>\n",
              "      <td>7587265252</td>\n",
              "      <td>{'adviceTemplates': [], 'advices': [], 'attach...</td>\n",
              "    </tr>\n",
              "    <tr>\n",
              "      <th>7</th>\n",
              "      <td>T8H9c3c6</td>\n",
              "      <td>e8056Ye8</td>\n",
              "      <td>{'_id': 'T6h41b5ad3d8002ad9c3c4', 'firstName':...</td>\n",
              "      <td>5586958767</td>\n",
              "      <td>{'adviceTemplates': [], 'advices': [], 'attach...</td>\n",
              "    </tr>\n",
              "    <tr>\n",
              "      <th>8</th>\n",
              "      <td>T8Ud380</td>\n",
              "      <td>dbc0-c66b</td>\n",
              "      <td>{'_id': 'T9Iy347e', 'firstName': 'Dinesh', 'la...</td>\n",
              "      <td>9987602525</td>\n",
              "      <td>{'adviceTemplates': [], 'advices': [], 'attach...</td>\n",
              "    </tr>\n",
              "    <tr>\n",
              "      <th>9</th>\n",
              "      <td>T345fG4</td>\n",
              "      <td>1576a7</td>\n",
              "      <td>{'_id': 'T4Rb1a2', 'firstName': 'Sanjay', 'las...</td>\n",
              "      <td>9234354366</td>\n",
              "      <td>{'adviceTemplates': [], 'advices': [], 'attach...</td>\n",
              "    </tr>\n",
              "    <tr>\n",
              "      <th>10</th>\n",
              "      <td>T4F6a175</td>\n",
              "      <td>b6Te4ac</td>\n",
              "      <td>{'_id': 'Tr4T2173', 'phrId': '6E48U79', 'first...</td>\n",
              "      <td>4863281056</td>\n",
              "      <td>{'adviceTemplates': [], 'advices': [], 'attach...</td>\n",
              "    </tr>\n",
              "    <tr>\n",
              "      <th>11</th>\n",
              "      <td>TW3r002</td>\n",
              "      <td>bu5Qfb</td>\n",
              "      <td>{'_id': 'T6Wa50', 'firstName': 'Nirmala', 'las...</td>\n",
              "      <td>8687986800</td>\n",
              "      <td>{'adviceTemplates': [], 'advices': [], 'attach...</td>\n",
              "    </tr>\n",
              "    <tr>\n",
              "      <th>12</th>\n",
              "      <td>6U6Ra36</td>\n",
              "      <td>86U8Y45</td>\n",
              "      <td>{'_id': '65sRa36', 'firstName': 'Satish', 'las...</td>\n",
              "      <td></td>\n",
              "      <td>{'adviceTemplates': [], 'advices': [], 'attach...</td>\n",
              "    </tr>\n",
              "    <tr>\n",
              "      <th>13</th>\n",
              "      <td>u7Y7Aa5</td>\n",
              "      <td>Ufd7231</td>\n",
              "      <td>{'_id': 'UG67231', 'phrId': 'T6a7231', 'firstN...</td>\n",
              "      <td>7152684236</td>\n",
              "      <td>{'labTest': [], 'emrTemplates': [], 'doctorNot...</td>\n",
              "    </tr>\n",
              "    <tr>\n",
              "      <th>14</th>\n",
              "      <td>T3R5dec</td>\n",
              "      <td>E4u5Ea2</td>\n",
              "      <td>{'_id': 'E4u5Ea2', 'firstName': 'Satyanaaryan'...</td>\n",
              "      <td></td>\n",
              "      <td>{'adviceTemplates': [], 'advices': [], 'attach...</td>\n",
              "    </tr>\n",
              "    <tr>\n",
              "      <th>15</th>\n",
              "      <td>T4E7Ge6</td>\n",
              "      <td>T4E3e410</td>\n",
              "      <td>{'_id': 'T4E7Ge6', 'firstName': 'Nivitha', 'la...</td>\n",
              "      <td>9184723620</td>\n",
              "      <td>{'adviceTemplates': [], 'advices': [], 'attach...</td>\n",
              "    </tr>\n",
              "    <tr>\n",
              "      <th>16</th>\n",
              "      <td>E5336545</td>\n",
              "      <td>04Re22d</td>\n",
              "      <td>{'_id': '04Re22d', 'firstName': 'Tejpal', 'las...</td>\n",
              "      <td></td>\n",
              "      <td>{'adviceTemplates': [], 'advices': [], 'attach...</td>\n",
              "    </tr>\n",
              "    <tr>\n",
              "      <th>17</th>\n",
              "      <td>T7Ys58b</td>\n",
              "      <td>af9784hf</td>\n",
              "      <td>{'_id': 'u7dWa589', 'firstName': 'Nandhini', '...</td>\n",
              "      <td>5847346075</td>\n",
              "      <td>{'adviceTemplates': [], 'advices': [], 'attach...</td>\n",
              "    </tr>\n",
              "    <tr>\n",
              "      <th>18</th>\n",
              "      <td>Y874Us5w</td>\n",
              "      <td>I8eW201</td>\n",
              "      <td>{'_id': 'TU7e913', 'firstName': 'Dhanamma', 'l...</td>\n",
              "      <td>9064537237</td>\n",
              "      <td>{'adviceTemplates': [], 'advices': [], 'attach...</td>\n",
              "    </tr>\n",
              "    <tr>\n",
              "      <th>19</th>\n",
              "      <td>Y7s5G42</td>\n",
              "      <td>f7r501cb1</td>\n",
              "      <td>{'_id': 'H8s2d40', 'firstName': 'Kushal', 'las...</td>\n",
              "      <td></td>\n",
              "      <td>{'adviceTemplates': [], 'advices': [], 'attach...</td>\n",
              "    </tr>\n",
              "    <tr>\n",
              "      <th>20</th>\n",
              "      <td>Y7eE5cd8</td>\n",
              "      <td>cf092c8t6c</td>\n",
              "      <td>{'_id': 'u9cd6', 'phrId': '6463U8s231', 'first...</td>\n",
              "      <td>992727892</td>\n",
              "      <td>{'adviceTemplates': [], 'advices': [], 'attach...</td>\n",
              "    </tr>\n",
              "    <tr>\n",
              "      <th>21</th>\n",
              "      <td>I9984e8</td>\n",
              "      <td>O02n262e</td>\n",
              "      <td>{'_id': 'Pdh97S6', 'phrId': 'Jus0480', 'firstN...</td>\n",
              "      <td>6888324121</td>\n",
              "      <td>{'adviceTemplates': [], 'advices': [], 'attach...</td>\n",
              "    </tr>\n",
              "    <tr>\n",
              "      <th>22</th>\n",
              "      <td>Tu78a783</td>\n",
              "      <td>5dfN9s41</td>\n",
              "      <td>{'_id': 'h02U8a781', 'firstName': 'Preethi', '...</td>\n",
              "      <td>8248594521</td>\n",
              "      <td>{'adviceTemplates': [], 'advices': [], 'attach...</td>\n",
              "    </tr>\n",
              "    <tr>\n",
              "      <th>23</th>\n",
              "      <td>U9D2w6c</td>\n",
              "      <td>cc86re0f</td>\n",
              "      <td>{'_id': 'T6h40a5ad3d8002ad9c06a', 'firstName':...</td>\n",
              "      <td>+917938475936</td>\n",
              "      <td>{'adviceTemplates': [], 'advices': [], 'attach...</td>\n",
              "    </tr>\n",
              "    <tr>\n",
              "      <th>24</th>\n",
              "      <td>T6hY6sEe</td>\n",
              "      <td>bd99dU7</td>\n",
              "      <td>{'_id': 'Y7sHec', 'firstName': 'Naresh', 'last...</td>\n",
              "      <td>+9124648979746</td>\n",
              "      <td>{'adviceTemplates': [], 'advices': [], 'attach...</td>\n",
              "    </tr>\n",
              "    <tr>\n",
              "      <th>25</th>\n",
              "      <td>H7sT6c</td>\n",
              "      <td>bcWe50</td>\n",
              "      <td>{'_id': 'T6h408981ayf32b63bcfa', 'firstName': ...</td>\n",
              "      <td>+916883788633</td>\n",
              "      <td>{'adviceTemplates': [], 'advices': [], 'attach...</td>\n",
              "    </tr>\n",
              "    <tr>\n",
              "      <th>26</th>\n",
              "      <td>8Utyd5b</td>\n",
              "      <td>7au8se3</td>\n",
              "      <td>{'_id': 'T6U67af9', 'firstName': 'Govardhan', ...</td>\n",
              "      <td>+916636278363</td>\n",
              "      <td>{'adviceTemplates': [], 'advices': [], 'attach...</td>\n",
              "    </tr>\n",
              "    <tr>\n",
              "      <th>27</th>\n",
              "      <td>y87Ta5c7</td>\n",
              "      <td>432cT213</td>\n",
              "      <td>{'_id': 'R53Et5W', 'firstName': 'Rajeshwari', ...</td>\n",
              "      <td>6525356535</td>\n",
              "      <td>{'adviceTemplates': [], 'advices': [], 'attach...</td>\n",
              "    </tr>\n",
              "    <tr>\n",
              "      <th>28</th>\n",
              "      <td>Ub7S65b7</td>\n",
              "      <td>D3fFr42c</td>\n",
              "      <td>{'_id': 'dE3r$2b5', 'firstName': 'Santosh', 'l...</td>\n",
              "      <td></td>\n",
              "      <td>{'adviceTemplates': [], 'advices': [], 'attach...</td>\n",
              "    </tr>\n",
              "    <tr>\n",
              "      <th>29</th>\n",
              "      <td>yD7s2d7</td>\n",
              "      <td>7uyT6Rs</td>\n",
              "      <td>{'_id': 'TI93Hd5', 'firstName': 'Tarachand', '...</td>\n",
              "      <td>+919093872282</td>\n",
              "      <td>{'adviceTemplates': [], 'advices': [], 'attach...</td>\n",
              "    </tr>\n",
              "    <tr>\n",
              "      <th>30</th>\n",
              "      <td>I9Sb4e8</td>\n",
              "      <td>O02n2e</td>\n",
              "      <td>{'_id': 'Pdh97S6', 'phrId': 'Jus0480', 'firstN...</td>\n",
              "      <td>+916888324121</td>\n",
              "      <td>{'adviceTemplates': [], 'advices': [], 'attach...</td>\n",
              "    </tr>\n",
              "  </tbody>\n",
              "</table>\n",
              "</div>\n",
              "    <div class=\"colab-df-buttons\">\n",
              "\n",
              "  <div class=\"colab-df-container\">\n",
              "    <button class=\"colab-df-convert\" onclick=\"convertToInteractive('df-c151552d-dbe1-40e6-8802-8dd5e37d6246')\"\n",
              "            title=\"Convert this dataframe to an interactive table.\"\n",
              "            style=\"display:none;\">\n",
              "\n",
              "  <svg xmlns=\"http://www.w3.org/2000/svg\" height=\"24px\" viewBox=\"0 -960 960 960\">\n",
              "    <path d=\"M120-120v-720h720v720H120Zm60-500h600v-160H180v160Zm220 220h160v-160H400v160Zm0 220h160v-160H400v160ZM180-400h160v-160H180v160Zm440 0h160v-160H620v160ZM180-180h160v-160H180v160Zm440 0h160v-160H620v160Z\"/>\n",
              "  </svg>\n",
              "    </button>\n",
              "\n",
              "  <style>\n",
              "    .colab-df-container {\n",
              "      display:flex;\n",
              "      gap: 12px;\n",
              "    }\n",
              "\n",
              "    .colab-df-convert {\n",
              "      background-color: #E8F0FE;\n",
              "      border: none;\n",
              "      border-radius: 50%;\n",
              "      cursor: pointer;\n",
              "      display: none;\n",
              "      fill: #1967D2;\n",
              "      height: 32px;\n",
              "      padding: 0 0 0 0;\n",
              "      width: 32px;\n",
              "    }\n",
              "\n",
              "    .colab-df-convert:hover {\n",
              "      background-color: #E2EBFA;\n",
              "      box-shadow: 0px 1px 2px rgba(60, 64, 67, 0.3), 0px 1px 3px 1px rgba(60, 64, 67, 0.15);\n",
              "      fill: #174EA6;\n",
              "    }\n",
              "\n",
              "    .colab-df-buttons div {\n",
              "      margin-bottom: 4px;\n",
              "    }\n",
              "\n",
              "    [theme=dark] .colab-df-convert {\n",
              "      background-color: #3B4455;\n",
              "      fill: #D2E3FC;\n",
              "    }\n",
              "\n",
              "    [theme=dark] .colab-df-convert:hover {\n",
              "      background-color: #434B5C;\n",
              "      box-shadow: 0px 1px 3px 1px rgba(0, 0, 0, 0.15);\n",
              "      filter: drop-shadow(0px 1px 2px rgba(0, 0, 0, 0.3));\n",
              "      fill: #FFFFFF;\n",
              "    }\n",
              "  </style>\n",
              "\n",
              "    <script>\n",
              "      const buttonEl =\n",
              "        document.querySelector('#df-c151552d-dbe1-40e6-8802-8dd5e37d6246 button.colab-df-convert');\n",
              "      buttonEl.style.display =\n",
              "        google.colab.kernel.accessAllowed ? 'block' : 'none';\n",
              "\n",
              "      async function convertToInteractive(key) {\n",
              "        const element = document.querySelector('#df-c151552d-dbe1-40e6-8802-8dd5e37d6246');\n",
              "        const dataTable =\n",
              "          await google.colab.kernel.invokeFunction('convertToInteractive',\n",
              "                                                    [key], {});\n",
              "        if (!dataTable) return;\n",
              "\n",
              "        const docLinkHtml = 'Like what you see? Visit the ' +\n",
              "          '<a target=\"_blank\" href=https://colab.research.google.com/notebooks/data_table.ipynb>data table notebook</a>'\n",
              "          + ' to learn more about interactive tables.';\n",
              "        element.innerHTML = '';\n",
              "        dataTable['output_type'] = 'display_data';\n",
              "        await google.colab.output.renderOutput(dataTable, element);\n",
              "        const docLink = document.createElement('div');\n",
              "        docLink.innerHTML = docLinkHtml;\n",
              "        element.appendChild(docLink);\n",
              "      }\n",
              "    </script>\n",
              "  </div>\n",
              "\n",
              "\n",
              "<div id=\"df-749b3f9f-f275-4314-9faa-c018a96d0c76\">\n",
              "  <button class=\"colab-df-quickchart\" onclick=\"quickchart('df-749b3f9f-f275-4314-9faa-c018a96d0c76')\"\n",
              "            title=\"Suggest charts\"\n",
              "            style=\"display:none;\">\n",
              "\n",
              "<svg xmlns=\"http://www.w3.org/2000/svg\" height=\"24px\"viewBox=\"0 0 24 24\"\n",
              "     width=\"24px\">\n",
              "    <g>\n",
              "        <path d=\"M19 3H5c-1.1 0-2 .9-2 2v14c0 1.1.9 2 2 2h14c1.1 0 2-.9 2-2V5c0-1.1-.9-2-2-2zM9 17H7v-7h2v7zm4 0h-2V7h2v10zm4 0h-2v-4h2v4z\"/>\n",
              "    </g>\n",
              "</svg>\n",
              "  </button>\n",
              "\n",
              "<style>\n",
              "  .colab-df-quickchart {\n",
              "      --bg-color: #E8F0FE;\n",
              "      --fill-color: #1967D2;\n",
              "      --hover-bg-color: #E2EBFA;\n",
              "      --hover-fill-color: #174EA6;\n",
              "      --disabled-fill-color: #AAA;\n",
              "      --disabled-bg-color: #DDD;\n",
              "  }\n",
              "\n",
              "  [theme=dark] .colab-df-quickchart {\n",
              "      --bg-color: #3B4455;\n",
              "      --fill-color: #D2E3FC;\n",
              "      --hover-bg-color: #434B5C;\n",
              "      --hover-fill-color: #FFFFFF;\n",
              "      --disabled-bg-color: #3B4455;\n",
              "      --disabled-fill-color: #666;\n",
              "  }\n",
              "\n",
              "  .colab-df-quickchart {\n",
              "    background-color: var(--bg-color);\n",
              "    border: none;\n",
              "    border-radius: 50%;\n",
              "    cursor: pointer;\n",
              "    display: none;\n",
              "    fill: var(--fill-color);\n",
              "    height: 32px;\n",
              "    padding: 0;\n",
              "    width: 32px;\n",
              "  }\n",
              "\n",
              "  .colab-df-quickchart:hover {\n",
              "    background-color: var(--hover-bg-color);\n",
              "    box-shadow: 0 1px 2px rgba(60, 64, 67, 0.3), 0 1px 3px 1px rgba(60, 64, 67, 0.15);\n",
              "    fill: var(--button-hover-fill-color);\n",
              "  }\n",
              "\n",
              "  .colab-df-quickchart-complete:disabled,\n",
              "  .colab-df-quickchart-complete:disabled:hover {\n",
              "    background-color: var(--disabled-bg-color);\n",
              "    fill: var(--disabled-fill-color);\n",
              "    box-shadow: none;\n",
              "  }\n",
              "\n",
              "  .colab-df-spinner {\n",
              "    border: 2px solid var(--fill-color);\n",
              "    border-color: transparent;\n",
              "    border-bottom-color: var(--fill-color);\n",
              "    animation:\n",
              "      spin 1s steps(1) infinite;\n",
              "  }\n",
              "\n",
              "  @keyframes spin {\n",
              "    0% {\n",
              "      border-color: transparent;\n",
              "      border-bottom-color: var(--fill-color);\n",
              "      border-left-color: var(--fill-color);\n",
              "    }\n",
              "    20% {\n",
              "      border-color: transparent;\n",
              "      border-left-color: var(--fill-color);\n",
              "      border-top-color: var(--fill-color);\n",
              "    }\n",
              "    30% {\n",
              "      border-color: transparent;\n",
              "      border-left-color: var(--fill-color);\n",
              "      border-top-color: var(--fill-color);\n",
              "      border-right-color: var(--fill-color);\n",
              "    }\n",
              "    40% {\n",
              "      border-color: transparent;\n",
              "      border-right-color: var(--fill-color);\n",
              "      border-top-color: var(--fill-color);\n",
              "    }\n",
              "    60% {\n",
              "      border-color: transparent;\n",
              "      border-right-color: var(--fill-color);\n",
              "    }\n",
              "    80% {\n",
              "      border-color: transparent;\n",
              "      border-right-color: var(--fill-color);\n",
              "      border-bottom-color: var(--fill-color);\n",
              "    }\n",
              "    90% {\n",
              "      border-color: transparent;\n",
              "      border-bottom-color: var(--fill-color);\n",
              "    }\n",
              "  }\n",
              "</style>\n",
              "\n",
              "  <script>\n",
              "    async function quickchart(key) {\n",
              "      const quickchartButtonEl =\n",
              "        document.querySelector('#' + key + ' button');\n",
              "      quickchartButtonEl.disabled = true;  // To prevent multiple clicks.\n",
              "      quickchartButtonEl.classList.add('colab-df-spinner');\n",
              "      try {\n",
              "        const charts = await google.colab.kernel.invokeFunction(\n",
              "            'suggestCharts', [key], {});\n",
              "      } catch (error) {\n",
              "        console.error('Error during call to suggestCharts:', error);\n",
              "      }\n",
              "      quickchartButtonEl.classList.remove('colab-df-spinner');\n",
              "      quickchartButtonEl.classList.add('colab-df-quickchart-complete');\n",
              "    }\n",
              "    (() => {\n",
              "      let quickchartButtonEl =\n",
              "        document.querySelector('#df-749b3f9f-f275-4314-9faa-c018a96d0c76 button');\n",
              "      quickchartButtonEl.style.display =\n",
              "        google.colab.kernel.accessAllowed ? 'block' : 'none';\n",
              "    })();\n",
              "  </script>\n",
              "</div>\n",
              "\n",
              "    </div>\n",
              "  </div>\n"
            ],
            "application/vnd.google.colaboratory.intrinsic+json": {
              "type": "dataframe",
              "variable_name": "df",
              "summary": "{\n  \"name\": \"df\",\n  \"rows\": 31,\n  \"fields\": [\n    {\n      \"column\": \"_id\",\n      \"properties\": {\n        \"dtype\": \"string\",\n        \"num_unique_values\": 31,\n        \"samples\": [\n          \"y87Ta5c7\",\n          \"T4E7Ge6\",\n          \"U9D2w6c\"\n        ],\n        \"semantic_type\": \"\",\n        \"description\": \"\"\n      }\n    },\n    {\n      \"column\": \"appointmentId\",\n      \"properties\": {\n        \"dtype\": \"string\",\n        \"num_unique_values\": 31,\n        \"samples\": [\n          \"432cT213\",\n          \"T4E3e410\",\n          \"cc86re0f\"\n        ],\n        \"semantic_type\": \"\",\n        \"description\": \"\"\n      }\n    },\n    {\n      \"column\": \"patientDetails\",\n      \"properties\": {\n        \"dtype\": \"object\",\n        \"semantic_type\": \"\",\n        \"description\": \"\"\n      }\n    },\n    {\n      \"column\": \"phoneNumber\",\n      \"properties\": {\n        \"dtype\": \"string\",\n        \"num_unique_values\": 27,\n        \"samples\": [\n          \"9987602525\",\n          \"7152684236\",\n          \"9234354366\"\n        ],\n        \"semantic_type\": \"\",\n        \"description\": \"\"\n      }\n    },\n    {\n      \"column\": \"consultationData\",\n      \"properties\": {\n        \"dtype\": \"object\",\n        \"semantic_type\": \"\",\n        \"description\": \"\"\n      }\n    }\n  ]\n}"
            }
          },
          "metadata": {},
          "execution_count": 17
        }
      ]
    },
    {
      "cell_type": "code",
      "source": [],
      "metadata": {
        "id": "nnA6aEvtSrp2"
      },
      "execution_count": 15,
      "outputs": []
    },
    {
      "cell_type": "code",
      "source": [
        "\n",
        "active_count = df['consultationData'].apply(lambda x: x.get('isActive', 0)).sum()\n",
        "inactive_count = df['consultationData'].apply(lambda x: x.get('isActive', 0)).sum()\n",
        "\n",
        "total_medicines = active_count + inactive_count\n",
        "\n",
        "\n",
        "active_percentage = (active_count / total_medicines) * 100\n",
        "inactive_percentage = (inactive_count / total_medicines) * 100\n",
        "\n",
        "print(\"Percentage of active medicines:\", active_percentage)\n",
        "print(\"Percentage of inactive medicines:\", inactive_percentage)"
      ],
      "metadata": {
        "colab": {
          "base_uri": "https://localhost:8080/"
        },
        "id": "LTHHjfkNSXAM",
        "outputId": "5d7528a7-7071-4dd5-d6e0-21e3a080869e"
      },
      "execution_count": 33,
      "outputs": [
        {
          "output_type": "stream",
          "name": "stdout",
          "text": [
            "Percentage of active medicines: nan\n",
            "Percentage of inactive medicines: nan\n"
          ]
        },
        {
          "output_type": "stream",
          "name": "stderr",
          "text": [
            "<ipython-input-33-8effd601d4fc>:9: RuntimeWarning: invalid value encountered in scalar divide\n",
            "  active_percentage = (active_count / total_medicines) * 100\n",
            "<ipython-input-33-8effd601d4fc>:10: RuntimeWarning: invalid value encountered in scalar divide\n",
            "  inactive_percentage = (inactive_count / total_medicines) * 100\n"
          ]
        }
      ]
    },
    {
      "cell_type": "code",
      "source": [
        "from collections import Counter\n",
        "\n",
        "medicine_counts = Counter()\n",
        "for index, row in df.iterrows():\n",
        "  for medicine in row['consultationData']['medicines']:\n",
        "    medicine_counts[medicine['medicineName']] += 1\n",
        "\n",
        "third_most_common = medicine_counts.most_common(3)[2]\n",
        "print(third_most_common)"
      ],
      "metadata": {
        "colab": {
          "base_uri": "https://localhost:8080/"
        },
        "id": "Y534S-1ETG2S",
        "outputId": "35bb3d9a-033f-4ea8-dff3-2c297b50f8e3"
      },
      "execution_count": 28,
      "outputs": [
        {
          "output_type": "stream",
          "name": "stdout",
          "text": [
            "('C', 13)\n"
          ]
        }
      ]
    },
    {
      "cell_type": "code",
      "source": [
        "grouped_df = df.groupby('consultationData[medicines]').sum().reset_index()\n",
        "\n",
        "# Sort the dataframe by count in descending order\n",
        "sorted_df = grouped_df.sort_values(by='count', ascending=False)\n",
        "\n",
        "# Get the 3rd most frequently prescribed medicine\n",
        "third_most_prescribed = sorted_df.iloc[2]\n",
        "\n",
        "print(third_most_prescribed)"
      ],
      "metadata": {
        "colab": {
          "base_uri": "https://localhost:8080/",
          "height": 373
        },
        "id": "6uyKwItDVEqA",
        "outputId": "711ce7cb-cb7a-4aaa-cf9c-c457a85056c5"
      },
      "execution_count": 24,
      "outputs": [
        {
          "output_type": "error",
          "ename": "KeyError",
          "evalue": "'consultationData[medicines]'",
          "traceback": [
            "\u001b[0;31m---------------------------------------------------------------------------\u001b[0m",
            "\u001b[0;31mKeyError\u001b[0m                                  Traceback (most recent call last)",
            "\u001b[0;32m<ipython-input-24-329b8cb43e49>\u001b[0m in \u001b[0;36m<cell line: 1>\u001b[0;34m()\u001b[0m\n\u001b[0;32m----> 1\u001b[0;31m \u001b[0mgrouped_df\u001b[0m \u001b[0;34m=\u001b[0m \u001b[0mdf\u001b[0m\u001b[0;34m.\u001b[0m\u001b[0mgroupby\u001b[0m\u001b[0;34m(\u001b[0m\u001b[0;34m'consultationData[medicines]'\u001b[0m\u001b[0;34m)\u001b[0m\u001b[0;34m.\u001b[0m\u001b[0msum\u001b[0m\u001b[0;34m(\u001b[0m\u001b[0;34m)\u001b[0m\u001b[0;34m.\u001b[0m\u001b[0mreset_index\u001b[0m\u001b[0;34m(\u001b[0m\u001b[0;34m)\u001b[0m\u001b[0;34m\u001b[0m\u001b[0;34m\u001b[0m\u001b[0m\n\u001b[0m\u001b[1;32m      2\u001b[0m \u001b[0;34m\u001b[0m\u001b[0m\n\u001b[1;32m      3\u001b[0m \u001b[0;31m# Sort the dataframe by count in descending order\u001b[0m\u001b[0;34m\u001b[0m\u001b[0;34m\u001b[0m\u001b[0m\n\u001b[1;32m      4\u001b[0m \u001b[0msorted_df\u001b[0m \u001b[0;34m=\u001b[0m \u001b[0mgrouped_df\u001b[0m\u001b[0;34m.\u001b[0m\u001b[0msort_values\u001b[0m\u001b[0;34m(\u001b[0m\u001b[0mby\u001b[0m\u001b[0;34m=\u001b[0m\u001b[0;34m'count'\u001b[0m\u001b[0;34m,\u001b[0m \u001b[0mascending\u001b[0m\u001b[0;34m=\u001b[0m\u001b[0;32mFalse\u001b[0m\u001b[0;34m)\u001b[0m\u001b[0;34m\u001b[0m\u001b[0;34m\u001b[0m\u001b[0m\n\u001b[1;32m      5\u001b[0m \u001b[0;34m\u001b[0m\u001b[0m\n",
            "\u001b[0;32m/usr/local/lib/python3.10/dist-packages/pandas/core/frame.py\u001b[0m in \u001b[0;36mgroupby\u001b[0;34m(self, by, axis, level, as_index, sort, group_keys, observed, dropna)\u001b[0m\n\u001b[1;32m   8250\u001b[0m         \u001b[0maxis\u001b[0m \u001b[0;34m=\u001b[0m \u001b[0mself\u001b[0m\u001b[0;34m.\u001b[0m\u001b[0m_get_axis_number\u001b[0m\u001b[0;34m(\u001b[0m\u001b[0maxis\u001b[0m\u001b[0;34m)\u001b[0m\u001b[0;34m\u001b[0m\u001b[0;34m\u001b[0m\u001b[0m\n\u001b[1;32m   8251\u001b[0m \u001b[0;34m\u001b[0m\u001b[0m\n\u001b[0;32m-> 8252\u001b[0;31m         return DataFrameGroupBy(\n\u001b[0m\u001b[1;32m   8253\u001b[0m             \u001b[0mobj\u001b[0m\u001b[0;34m=\u001b[0m\u001b[0mself\u001b[0m\u001b[0;34m,\u001b[0m\u001b[0;34m\u001b[0m\u001b[0;34m\u001b[0m\u001b[0m\n\u001b[1;32m   8254\u001b[0m             \u001b[0mkeys\u001b[0m\u001b[0;34m=\u001b[0m\u001b[0mby\u001b[0m\u001b[0;34m,\u001b[0m\u001b[0;34m\u001b[0m\u001b[0;34m\u001b[0m\u001b[0m\n",
            "\u001b[0;32m/usr/local/lib/python3.10/dist-packages/pandas/core/groupby/groupby.py\u001b[0m in \u001b[0;36m__init__\u001b[0;34m(self, obj, keys, axis, level, grouper, exclusions, selection, as_index, sort, group_keys, observed, dropna)\u001b[0m\n\u001b[1;32m    929\u001b[0m \u001b[0;34m\u001b[0m\u001b[0m\n\u001b[1;32m    930\u001b[0m         \u001b[0;32mif\u001b[0m \u001b[0mgrouper\u001b[0m \u001b[0;32mis\u001b[0m \u001b[0;32mNone\u001b[0m\u001b[0;34m:\u001b[0m\u001b[0;34m\u001b[0m\u001b[0;34m\u001b[0m\u001b[0m\n\u001b[0;32m--> 931\u001b[0;31m             grouper, exclusions, obj = get_grouper(\n\u001b[0m\u001b[1;32m    932\u001b[0m                 \u001b[0mobj\u001b[0m\u001b[0;34m,\u001b[0m\u001b[0;34m\u001b[0m\u001b[0;34m\u001b[0m\u001b[0m\n\u001b[1;32m    933\u001b[0m                 \u001b[0mkeys\u001b[0m\u001b[0;34m,\u001b[0m\u001b[0;34m\u001b[0m\u001b[0;34m\u001b[0m\u001b[0m\n",
            "\u001b[0;32m/usr/local/lib/python3.10/dist-packages/pandas/core/groupby/grouper.py\u001b[0m in \u001b[0;36mget_grouper\u001b[0;34m(obj, key, axis, level, sort, observed, validate, dropna)\u001b[0m\n\u001b[1;32m    983\u001b[0m                 \u001b[0min_axis\u001b[0m\u001b[0;34m,\u001b[0m \u001b[0mlevel\u001b[0m\u001b[0;34m,\u001b[0m \u001b[0mgpr\u001b[0m \u001b[0;34m=\u001b[0m \u001b[0;32mFalse\u001b[0m\u001b[0;34m,\u001b[0m \u001b[0mgpr\u001b[0m\u001b[0;34m,\u001b[0m \u001b[0;32mNone\u001b[0m\u001b[0;34m\u001b[0m\u001b[0;34m\u001b[0m\u001b[0m\n\u001b[1;32m    984\u001b[0m             \u001b[0;32melse\u001b[0m\u001b[0;34m:\u001b[0m\u001b[0;34m\u001b[0m\u001b[0;34m\u001b[0m\u001b[0m\n\u001b[0;32m--> 985\u001b[0;31m                 \u001b[0;32mraise\u001b[0m \u001b[0mKeyError\u001b[0m\u001b[0;34m(\u001b[0m\u001b[0mgpr\u001b[0m\u001b[0;34m)\u001b[0m\u001b[0;34m\u001b[0m\u001b[0;34m\u001b[0m\u001b[0m\n\u001b[0m\u001b[1;32m    986\u001b[0m         \u001b[0;32melif\u001b[0m \u001b[0misinstance\u001b[0m\u001b[0;34m(\u001b[0m\u001b[0mgpr\u001b[0m\u001b[0;34m,\u001b[0m \u001b[0mGrouper\u001b[0m\u001b[0;34m)\u001b[0m \u001b[0;32mand\u001b[0m \u001b[0mgpr\u001b[0m\u001b[0;34m.\u001b[0m\u001b[0mkey\u001b[0m \u001b[0;32mis\u001b[0m \u001b[0;32mnot\u001b[0m \u001b[0;32mNone\u001b[0m\u001b[0;34m:\u001b[0m\u001b[0;34m\u001b[0m\u001b[0;34m\u001b[0m\u001b[0m\n\u001b[1;32m    987\u001b[0m             \u001b[0;31m# Add key to exclusions\u001b[0m\u001b[0;34m\u001b[0m\u001b[0;34m\u001b[0m\u001b[0m\n",
            "\u001b[0;31mKeyError\u001b[0m: 'consultationData[medicines]'"
          ]
        }
      ]
    },
    {
      "cell_type": "code",
      "source": [
        "female_percentage = (df['patientDetails'] == 'female').sum() / len(df) * 100\n",
        "print(\"Percentage of female gender after imputation:\", female_percentage)"
      ],
      "metadata": {
        "colab": {
          "base_uri": "https://localhost:8080/"
        },
        "id": "aVLK03uXVwLQ",
        "outputId": "d990fe6f-8fce-448b-f31e-20b396da631c"
      },
      "execution_count": 30,
      "outputs": [
        {
          "output_type": "stream",
          "name": "stdout",
          "text": [
            "Percentage of female gender after imputation: 0.0\n"
          ]
        }
      ]
    },
    {
      "cell_type": "code",
      "source": [
        "inactive_percentage = (inactive_count / total_medicines) * 100\n",
        "\n",
        "print(\"Percentage of active medicines:\", active_percentage)\n",
        "print(\"Percentage of inactive medicines:\", inactive_percentage)"
      ],
      "metadata": {
        "colab": {
          "base_uri": "https://localhost:8080/"
        },
        "id": "sgBniUc8XIgj",
        "outputId": "4753c56c-e525-43b5-a7e5-19fa37ebf170"
      },
      "execution_count": 31,
      "outputs": [
        {
          "output_type": "stream",
          "name": "stdout",
          "text": [
            "Percentage of active medicines: nan\n",
            "Percentage of inactive medicines: nan\n"
          ]
        },
        {
          "output_type": "stream",
          "name": "stderr",
          "text": [
            "<ipython-input-31-16a8f8cf37e3>:1: RuntimeWarning: invalid value encountered in scalar divide\n",
            "  inactive_percentage = (inactive_count / total_medicines) * 100\n"
          ]
        }
      ]
    },
    {
      "cell_type": "code",
      "source": [
        "active_percentage = (active_count / total_medicines) * 100"
      ],
      "metadata": {
        "colab": {
          "base_uri": "https://localhost:8080/"
        },
        "id": "7GZ5obPkXptZ",
        "outputId": "5f16166e-e074-4ef2-ea66-f2c93d98b7dc"
      },
      "execution_count": 32,
      "outputs": [
        {
          "output_type": "stream",
          "name": "stderr",
          "text": [
            "<ipython-input-32-c234046c4922>:1: RuntimeWarning: invalid value encountered in scalar divide\n",
            "  active_percentage = (active_count / total_medicines) * 100\n"
          ]
        }
      ]
    },
    {
      "cell_type": "code",
      "source": [
        "df['num_medicines'] = df['consultationData'].apply(lambda x: len(x['medicines']))\n",
        "correlation = df['num_medicines'].corr(df['patientDetails']['age'])\n",
        "print(correlation)"
      ],
      "metadata": {
        "colab": {
          "base_uri": "https://localhost:8080/",
          "height": 321
        },
        "id": "zvqjbWHRYJGA",
        "outputId": "dfb2eda6-6294-4a2c-9cb2-c7022b0e57d9"
      },
      "execution_count": 34,
      "outputs": [
        {
          "output_type": "error",
          "ename": "KeyError",
          "evalue": "'age'",
          "traceback": [
            "\u001b[0;31m---------------------------------------------------------------------------\u001b[0m",
            "\u001b[0;31mKeyError\u001b[0m                                  Traceback (most recent call last)",
            "\u001b[0;32m<ipython-input-34-005b8463ecc1>\u001b[0m in \u001b[0;36m<cell line: 2>\u001b[0;34m()\u001b[0m\n\u001b[1;32m      1\u001b[0m \u001b[0mdf\u001b[0m\u001b[0;34m[\u001b[0m\u001b[0;34m'num_medicines'\u001b[0m\u001b[0;34m]\u001b[0m \u001b[0;34m=\u001b[0m \u001b[0mdf\u001b[0m\u001b[0;34m[\u001b[0m\u001b[0;34m'consultationData'\u001b[0m\u001b[0;34m]\u001b[0m\u001b[0;34m.\u001b[0m\u001b[0mapply\u001b[0m\u001b[0;34m(\u001b[0m\u001b[0;32mlambda\u001b[0m \u001b[0mx\u001b[0m\u001b[0;34m:\u001b[0m \u001b[0mlen\u001b[0m\u001b[0;34m(\u001b[0m\u001b[0mx\u001b[0m\u001b[0;34m[\u001b[0m\u001b[0;34m'medicines'\u001b[0m\u001b[0;34m]\u001b[0m\u001b[0;34m)\u001b[0m\u001b[0;34m)\u001b[0m\u001b[0;34m\u001b[0m\u001b[0;34m\u001b[0m\u001b[0m\n\u001b[0;32m----> 2\u001b[0;31m \u001b[0mcorrelation\u001b[0m \u001b[0;34m=\u001b[0m \u001b[0mdf\u001b[0m\u001b[0;34m[\u001b[0m\u001b[0;34m'num_medicines'\u001b[0m\u001b[0;34m]\u001b[0m\u001b[0;34m.\u001b[0m\u001b[0mcorr\u001b[0m\u001b[0;34m(\u001b[0m\u001b[0mdf\u001b[0m\u001b[0;34m[\u001b[0m\u001b[0;34m'patientDetails'\u001b[0m\u001b[0;34m]\u001b[0m\u001b[0;34m[\u001b[0m\u001b[0;34m'age'\u001b[0m\u001b[0;34m]\u001b[0m\u001b[0;34m)\u001b[0m\u001b[0;34m\u001b[0m\u001b[0;34m\u001b[0m\u001b[0m\n\u001b[0m\u001b[1;32m      3\u001b[0m \u001b[0mprint\u001b[0m\u001b[0;34m(\u001b[0m\u001b[0mcorrelation\u001b[0m\u001b[0;34m)\u001b[0m\u001b[0;34m\u001b[0m\u001b[0;34m\u001b[0m\u001b[0m\n",
            "\u001b[0;32m/usr/local/lib/python3.10/dist-packages/pandas/core/series.py\u001b[0m in \u001b[0;36m__getitem__\u001b[0;34m(self, key)\u001b[0m\n\u001b[1;32m   1005\u001b[0m \u001b[0;34m\u001b[0m\u001b[0m\n\u001b[1;32m   1006\u001b[0m         \u001b[0;32melif\u001b[0m \u001b[0mkey_is_scalar\u001b[0m\u001b[0;34m:\u001b[0m\u001b[0;34m\u001b[0m\u001b[0;34m\u001b[0m\u001b[0m\n\u001b[0;32m-> 1007\u001b[0;31m             \u001b[0;32mreturn\u001b[0m \u001b[0mself\u001b[0m\u001b[0;34m.\u001b[0m\u001b[0m_get_value\u001b[0m\u001b[0;34m(\u001b[0m\u001b[0mkey\u001b[0m\u001b[0;34m)\u001b[0m\u001b[0;34m\u001b[0m\u001b[0;34m\u001b[0m\u001b[0m\n\u001b[0m\u001b[1;32m   1008\u001b[0m \u001b[0;34m\u001b[0m\u001b[0m\n\u001b[1;32m   1009\u001b[0m         \u001b[0;32mif\u001b[0m \u001b[0mis_hashable\u001b[0m\u001b[0;34m(\u001b[0m\u001b[0mkey\u001b[0m\u001b[0;34m)\u001b[0m\u001b[0;34m:\u001b[0m\u001b[0;34m\u001b[0m\u001b[0;34m\u001b[0m\u001b[0m\n",
            "\u001b[0;32m/usr/local/lib/python3.10/dist-packages/pandas/core/series.py\u001b[0m in \u001b[0;36m_get_value\u001b[0;34m(self, label, takeable)\u001b[0m\n\u001b[1;32m   1114\u001b[0m \u001b[0;34m\u001b[0m\u001b[0m\n\u001b[1;32m   1115\u001b[0m         \u001b[0;31m# Similar to Index.get_value, but we do not fall back to positional\u001b[0m\u001b[0;34m\u001b[0m\u001b[0;34m\u001b[0m\u001b[0m\n\u001b[0;32m-> 1116\u001b[0;31m         \u001b[0mloc\u001b[0m \u001b[0;34m=\u001b[0m \u001b[0mself\u001b[0m\u001b[0;34m.\u001b[0m\u001b[0mindex\u001b[0m\u001b[0;34m.\u001b[0m\u001b[0mget_loc\u001b[0m\u001b[0;34m(\u001b[0m\u001b[0mlabel\u001b[0m\u001b[0;34m)\u001b[0m\u001b[0;34m\u001b[0m\u001b[0;34m\u001b[0m\u001b[0m\n\u001b[0m\u001b[1;32m   1117\u001b[0m \u001b[0;34m\u001b[0m\u001b[0m\n\u001b[1;32m   1118\u001b[0m         \u001b[0;32mif\u001b[0m \u001b[0mis_integer\u001b[0m\u001b[0;34m(\u001b[0m\u001b[0mloc\u001b[0m\u001b[0;34m)\u001b[0m\u001b[0;34m:\u001b[0m\u001b[0;34m\u001b[0m\u001b[0;34m\u001b[0m\u001b[0m\n",
            "\u001b[0;32m/usr/local/lib/python3.10/dist-packages/pandas/core/indexes/range.py\u001b[0m in \u001b[0;36mget_loc\u001b[0;34m(self, key)\u001b[0m\n\u001b[1;32m    347\u001b[0m                 \u001b[0;32mraise\u001b[0m \u001b[0mKeyError\u001b[0m\u001b[0;34m(\u001b[0m\u001b[0mkey\u001b[0m\u001b[0;34m)\u001b[0m \u001b[0;32mfrom\u001b[0m \u001b[0merr\u001b[0m\u001b[0;34m\u001b[0m\u001b[0;34m\u001b[0m\u001b[0m\n\u001b[1;32m    348\u001b[0m         \u001b[0;32mif\u001b[0m \u001b[0misinstance\u001b[0m\u001b[0;34m(\u001b[0m\u001b[0mkey\u001b[0m\u001b[0;34m,\u001b[0m \u001b[0mHashable\u001b[0m\u001b[0;34m)\u001b[0m\u001b[0;34m:\u001b[0m\u001b[0;34m\u001b[0m\u001b[0;34m\u001b[0m\u001b[0m\n\u001b[0;32m--> 349\u001b[0;31m             \u001b[0;32mraise\u001b[0m \u001b[0mKeyError\u001b[0m\u001b[0;34m(\u001b[0m\u001b[0mkey\u001b[0m\u001b[0;34m)\u001b[0m\u001b[0;34m\u001b[0m\u001b[0;34m\u001b[0m\u001b[0m\n\u001b[0m\u001b[1;32m    350\u001b[0m         \u001b[0mself\u001b[0m\u001b[0;34m.\u001b[0m\u001b[0m_check_indexing_error\u001b[0m\u001b[0;34m(\u001b[0m\u001b[0mkey\u001b[0m\u001b[0;34m)\u001b[0m\u001b[0;34m\u001b[0m\u001b[0;34m\u001b[0m\u001b[0m\n\u001b[1;32m    351\u001b[0m         \u001b[0;32mraise\u001b[0m \u001b[0mKeyError\u001b[0m\u001b[0;34m(\u001b[0m\u001b[0mkey\u001b[0m\u001b[0;34m)\u001b[0m\u001b[0;34m\u001b[0m\u001b[0;34m\u001b[0m\u001b[0m\n",
            "\u001b[0;31mKeyError\u001b[0m: 'age'"
          ]
        }
      ]
    },
    {
      "cell_type": "code",
      "source": [],
      "metadata": {
        "id": "GOnBzAp-anWZ"
      },
      "execution_count": null,
      "outputs": []
    }
  ]
}